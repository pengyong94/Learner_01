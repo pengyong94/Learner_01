{
 "cells": [
  {
   "cell_type": "code",
   "execution_count": 48,
   "metadata": {
    "collapsed": true
   },
   "outputs": [],
   "source": [
    "import numpy as np\n",
    "import pandas as pd\n",
    "import matplotlib.pyplot as plt"
   ]
  },
  {
   "cell_type": "markdown",
   "metadata": {},
   "source": [
    "###  1.线型\n",
    "###  2.颜色\n",
    "###  3.坐标轴设置\n",
    "###  4.子图生成"
   ]
  },
  {
   "cell_type": "code",
   "execution_count": null,
   "metadata": {
    "collapsed": true
   },
   "outputs": [],
   "source": []
  },
  {
   "cell_type": "code",
   "execution_count": 49,
   "metadata": {
    "collapsed": true
   },
   "outputs": [],
   "source": [
    "x = np.linspace(-3,3,50)  # 在(-3,3)之间产生平均产生50个数据点"
   ]
  },
  {
   "cell_type": "code",
   "execution_count": 50,
   "metadata": {
    "collapsed": true
   },
   "outputs": [],
   "source": [
    "y1 = 2*x+1\n",
    "y2 = np.power(x,2)"
   ]
  },
  {
   "cell_type": "markdown",
   "metadata": {},
   "source": [
    "####   <font,size=4 color=red>**1.线型**</font>\n",
    "#### '-'       solid line style\n",
    "#### '--'      dashed line style\n",
    "#### '-.'      dash-dot line style\n",
    "#### ':'       dotted line style"
   ]
  },
  {
   "cell_type": "markdown",
   "metadata": {},
   "source": [
    "#### <font,size=4 color=red>**2.颜色**</font>\n",
    "####  color=\"  \"  除了r,g,b三基色，包括“pink,ligthblue”等，同时可以采用“#FF00AA” RGB(256,256,256)值来表示。"
   ]
  },
  {
   "cell_type": "code",
   "execution_count": 51,
   "metadata": {},
   "outputs": [
    {
     "data": {
      "image/png": "[encoded data removed]",
      "text/plain": [
       "<matplotlib.figure.Figure at 0x2a827226eb8>"
      ]
     },
     "metadata": {},
     "output_type": "display_data"
    }
   ],
   "source": [
    "plt.figure(num=3, figsize=(6,8))\n",
    "plt.plot(x,y1,color=\"g\",linewidth=0.5,linestyle=\"-\")   \n",
    "plt.plot(x,y2,color=\"red\",linewidth=0.1,linestyle =\"--\")\n",
    "plt.show()"
   ]
  },
  {
   "cell_type": "markdown",
   "metadata": {},
   "source": [
    "#### <font,size=4 color=red>**3.坐标轴**</font>\n",
    "#### 3.1设定坐标轴的范围"
   ]
  },
  {
   "cell_type": "code",
   "execution_count": 52,
   "metadata": {},
   "outputs": [
    {
     "data": {
      "text/plain": [
       "(-2, 3)"
      ]
     },
     "execution_count": 52,
     "metadata": {},
     "output_type": "execute_result"
    }
   ],
   "source": [
    "plt.xlim(-1,2)   \n",
    "plt.ylim(-2,3)"
   ]
  },
  {
   "cell_type": "markdown",
   "metadata": {
    "collapsed": true
   },
   "source": [
    "#### 3.2 添加X,Y轴标签"
   ]
  },
  {
   "cell_type": "code",
   "execution_count": 53,
   "metadata": {},
   "outputs": [
    {
     "data": {
      "text/plain": [
       "<matplotlib.text.Text at 0x2a8271cb0f0>"
      ]
     },
     "execution_count": 53,
     "metadata": {},
     "output_type": "execute_result"
    }
   ],
   "source": [
    "#设置坐标轴含义， 注：英文直接写，中文需要后面加上fontproperties属性\n",
    "plt.xlabel(u'价格',fontproperties='SimHei')\n",
    "plt.ylabel(u'利润',fontproperties='SimHei')"
   ]
  },
  {
   "cell_type": "markdown",
   "metadata": {},
   "source": [
    "#### 3.3设置坐标轴刻度"
   ]
  },
  {
   "cell_type": "code",
   "execution_count": null,
   "metadata": {
    "collapsed": true
   },
   "outputs": [],
   "source": []
  },
  {
   "cell_type": "code",
   "execution_count": 54,
   "metadata": {},
   "outputs": [
    {
     "name": "stdout",
     "output_type": "stream",
     "text": [
      "[-1.   -0.25  0.5   1.25  2.  ]\n"
     ]
    },
    {
     "data": {
      "text/plain": [
       "([<matplotlib.axis.XTick at 0x2a8272fb8d0>,\n",
       "  <matplotlib.axis.XTick at 0x2a8271557b8>,\n",
       "  <matplotlib.axis.XTick at 0x2a8272105f8>,\n",
       "  <matplotlib.axis.XTick at 0x2a8242625f8>,\n",
       "  <matplotlib.axis.XTick at 0x2a82482cbe0>],\n",
       " <a list of 5 Text xticklabel objects>)"
      ]
     },
     "execution_count": 54,
     "metadata": {},
     "output_type": "execute_result"
    }
   ],
   "source": [
    "# -1到2区间，5个点，4个区间，平均分：[-1.,-0.25,0.5,1.25,2.]\n",
    "new_ticks=np.linspace(-1,2,5)   # 设置坐标轴\n",
    "print(new_ticks)\n",
    "plt.xticks(new_ticks)"
   ]
  },
  {
   "cell_type": "markdown",
   "metadata": {},
   "source": [
    "#### 3.3设置Y轴标签\n",
    "     设置对应坐标用汉字或英文表示，后面的属性fontproperties表示中文可见，不乱码，\n",
    "     内部英文$$表示将英文括起来，r表示正则匹配，通过这个方式将其变为好看的字体\n",
    "     如果要显示特殊字符，比如阿尔法，则用转意符\\alpha,前面的\\ 表示空格转意"
   ]
  },
  {
   "cell_type": "code",
   "execution_count": 57,
   "metadata": {},
   "outputs": [
    {
     "data": {
      "image/png": "[encoded data removed]",
      "text/plain": [
       "<matplotlib.figure.Figure at 0x2a824b916d8>"
      ]
     },
     "metadata": {},
     "output_type": "display_data"
    }
   ],
   "source": [
    "plt.yticks([-2,-1.8,-1,1.22,3.],\n",
    "           ['非常糟糕','糟糕',r'$good\\ \\alpha$',r'$really\\ good$','超级好'],fontproperties='SimHei')\n",
    "plt.plot(x,y1,color=\"g\",linewidth=0.5,linestyle=\"-\")   \n",
    "plt.plot(x,y2,color=\"red\",linewidth=0.1,linestyle =\"--\")\n",
    "plt.legend(labels=['line','curve'])          # 添加图例标签\n",
    "plt.show()"
   ]
  },
  {
   "cell_type": "markdown",
   "metadata": {},
   "source": [
    "#### <font size=4 color=red>**4.subplot**</font>"
   ]
  },
  {
   "cell_type": "code",
   "execution_count": 66,
   "metadata": {},
   "outputs": [
    {
     "data": {
      "text/plain": [
       "<matplotlib.axes._subplots.AxesSubplot at 0x2a8272493c8>"
      ]
     },
     "execution_count": 66,
     "metadata": {},
     "output_type": "execute_result"
    }
   ],
   "source": [
    "plt.subplot(2,2,1)\n",
    "plt.subplot(2,2,2)\n",
    "plt.subplot(2,2,3)\n",
    "plt.subplot(2,2,4)"
   ]
  },
  {
   "cell_type": "code",
   "execution_count": 64,
   "metadata": {},
   "outputs": [
    {
     "data": {
      "image/png": "[encoded data removed]",
      "text/plain": [
       "<matplotlib.figure.Figure at 0x2a82712d860>"
      ]
     },
     "metadata": {},
     "output_type": "display_data"
    }
   ],
   "source": [
    "plt.show()"
   ]
  },
  {
   "cell_type": "markdown",
   "metadata": {},
   "source": [
    "#### 4.1subplot 生成不均匀图中图"
   ]
  },
  {
   "cell_type": "code",
   "execution_count": null,
   "metadata": {
    "collapsed": true
   },
   "outputs": [],
   "source": []
  }
 ],
 "metadata": {
  "kernelspec": {
   "display_name": "Python 3",
   "language": "python",
   "name": "python3"
  },
  "language_info": {
   "codemirror_mode": {
    "name": "ipython",
    "version": 3
   },
   "file_extension": ".py",
   "mimetype": "text/x-python",
   "name": "python",
   "nbconvert_exporter": "python",
   "pygments_lexer": "ipython3",
   "version": "3.6.2"
  }
 },
 "nbformat": 4,
 "nbformat_minor": 2
}
