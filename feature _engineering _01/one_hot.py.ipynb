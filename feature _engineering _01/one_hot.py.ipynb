{
 "cells": [
  {
   "cell_type": "markdown",
   "metadata": {},
   "source": [
    "###  pandas使用get_dummies进行one-hot编码\n",
    "   <font>**1、离散特征的<font color =red>取值之间没有大小的意义</font>，比如color：[red,blue],那么就使用one-hot编码**<font><bar>\n",
    "\n",
    "   <font>**2、离散特征的<font color =red>取值有大小的意义</font>，比如size:[X,XL,XXL],那么就使用数值的映射{X:1,XL:2,XXL:3}**<font>"
   ]
  },
  {
   "cell_type": "markdown",
   "metadata": {},
   "source": [
    "#### <font size=4 color =red>1.对离散特征（类目属性）进行编码<font>"
   ]
  },
  {
   "cell_type": "code",
   "execution_count": 64,
   "metadata": {},
   "outputs": [
    {
     "name": "stdout",
     "output_type": "stream",
     "text": [
      "   color size  prize class label\n",
      "0  green    M   10.1      class1\n",
      "1    red    L   13.5      class2\n",
      "2   blue   XL   15.3      class1\n"
     ]
    }
   ],
   "source": [
    "import pandas as pd  \n",
    "df = pd.DataFrame([  \n",
    "            ['green', 'M', 10.1, 'class1'],   \n",
    "            ['red', 'L', 13.5, 'class2'],   \n",
    "            ['blue', 'XL', 15.3, 'class1']],columns = ['color', 'size', 'prize', 'class label'])  \n",
    "# 设置映射参数\n",
    "size_mapping = {  \n",
    "           'XL': 3,  \n",
    "           'L': 2,  \n",
    "           'M': 1}  \n",
    "print(df)"
   ]
  },
  {
   "cell_type": "code",
   "execution_count": 65,
   "metadata": {},
   "outputs": [
    {
     "name": "stdout",
     "output_type": "stream",
     "text": [
      "   color  size  prize class label\n",
      "0  green     1   10.1      class1\n",
      "1    red     2   13.5      class2\n",
      "2   blue     3   15.3      class1\n",
      "{'class2', 'class1'}\n"
     ]
    }
   ],
   "source": [
    "#Series的map函数，将对应的values替代为size_mapping的数值。\n",
    "df['size'] = df['size'].map(size_mapping) \n",
    "print(df)\n",
    "print(set(df['class label']))   # 利用set()进行标签去重"
   ]
  },
  {
   "cell_type": "code",
   "execution_count": 66,
   "metadata": {},
   "outputs": [
    {
     "name": "stdout",
     "output_type": "stream",
     "text": [
      "0 class2\n",
      "1 class1\n",
      "{'class2': 0, 'class1': 1}\n"
     ]
    },
    {
     "data": {
      "text/html": [
       "<div>\n",
       "<style>\n",
       "    .dataframe thead tr:only-child th {\n",
       "        text-align: right;\n",
       "    }\n",
       "\n",
       "    .dataframe thead th {\n",
       "        text-align: left;\n",
       "    }\n",
       "\n",
       "    .dataframe tbody tr th {\n",
       "        vertical-align: top;\n",
       "    }\n",
       "</style>\n",
       "<table border=\"1\" class=\"dataframe\">\n",
       "  <thead>\n",
       "    <tr style=\"text-align: right;\">\n",
       "      <th></th>\n",
       "      <th>color</th>\n",
       "      <th>size</th>\n",
       "      <th>prize</th>\n",
       "      <th>class label</th>\n",
       "    </tr>\n",
       "  </thead>\n",
       "  <tbody>\n",
       "    <tr>\n",
       "      <th>0</th>\n",
       "      <td>green</td>\n",
       "      <td>1</td>\n",
       "      <td>10.1</td>\n",
       "      <td>1</td>\n",
       "    </tr>\n",
       "    <tr>\n",
       "      <th>1</th>\n",
       "      <td>red</td>\n",
       "      <td>2</td>\n",
       "      <td>13.5</td>\n",
       "      <td>0</td>\n",
       "    </tr>\n",
       "    <tr>\n",
       "      <th>2</th>\n",
       "      <td>blue</td>\n",
       "      <td>3</td>\n",
       "      <td>15.3</td>\n",
       "      <td>1</td>\n",
       "    </tr>\n",
       "  </tbody>\n",
       "</table>\n",
       "</div>"
      ],
      "text/plain": [
       "   color  size  prize  class label\n",
       "0  green     1   10.1            1\n",
       "1    red     2   13.5            0\n",
       "2   blue     3   15.3            1"
      ]
     },
     "execution_count": 66,
     "metadata": {},
     "output_type": "execute_result"
    }
   ],
   "source": [
    "for idx,label in enumerate(set(df['class label'])):      # 利用enumerate函数对标签进行枚举，获取索引值节标签值\n",
    "   print(idx,label)\n",
    "\n",
    "\"\"\"calss_mapping = {label:idx}构造字典\"\"\"\n",
    "class_mapping = {label:idx for idx,label in enumerate(set(df['class label']))} \n",
    "print(class_mapping)\n",
    "\n",
    "\"\"\"\n",
    "构造class_mapping参数\n",
    "class_mapping = {}\n",
    "a = set(df[\"class label\"])\n",
    "for  i in range(len(a)):\n",
    "    class_mapping[a.pop()] = i    # 说明set的数据结构是队列（FIFO）\n",
    "print(class_mapping)    \n",
    "\"\"\"\n",
    "#Series的map函数，将对应的calss label替代为calss_mapping的数值。\n",
    "\n",
    "df[\"class label\"] = df[\"class label\"].map(class_mapping)\n",
    "df"
   ]
  },
  {
   "cell_type": "markdown",
   "metadata": {},
   "source": [
    "#### <font size=4 color =red>2.one-hot编码<font><bar>"
   ]
  },
  {
   "cell_type": "raw",
   "metadata": {},
   "source": [
    "# df = pd.get_dummies(df)  # 对df中没有实际意义的标签值进行one-hot编码\n",
    "# print(df)"
   ]
  },
  {
   "cell_type": "markdown",
   "metadata": {},
   "source": [
    "#### <font color=red,size=4>注释</font><bar>\n",
    "<font>pd.get_dummies(df['size'],prefix = 'sss') 是对具体的某个列的不同数据 进行one-hot编码,<font>\n",
    "<font>prefix指定生成的列表头名称'sss_1\\sss_2\\sss_3'有几类就有几个'sss'列<font><bar>\n",
    "\n",
    "<font> color = black>如果pd.get_dummies(df)进行编码的对象不是Series对象，对整个dataframe对象来说的话，<font>\n",
    "<font> prefix不用指定，且会根据原columns的表头名称生成全部的非数字化的！<font><bar>"
   ]
  },
  {
   "cell_type": "code",
   "execution_count": 67,
   "metadata": {
    "collapsed": true
   },
   "outputs": [],
   "source": [
    "# 如果用下面的方法，则会产生新的df，不是在原df的条件下，更改color，返回的仍然是df类型\n",
    "# prefix参数指定了原表头的名称：prefix指定生成的列表头名称'sss_1\\sss_2\\sss_3'有几类就有几个'sss'列 。"
   ]
  },
  {
   "cell_type": "code",
   "execution_count": 68,
   "metadata": {},
   "outputs": [
    {
     "name": "stdout",
     "output_type": "stream",
     "text": [
      "   sss_blue  sss_green  sss_red\n",
      "0         0          1        0\n",
      "1         0          0        1\n",
      "2         1          0        0\n"
     ]
    }
   ],
   "source": [
    "df = pd.get_dummies(df['color'],prefix = 'sss')\n",
    "print(df)"
   ]
  },
  {
   "cell_type": "markdown",
   "metadata": {},
   "source": [
    "#### <font size=4 color=red> 参考资料：https://blog.csdn.net/brucewong0516/article/details/78768222 <font>"
   ]
  },
  {
   "cell_type": "code",
   "execution_count": null,
   "metadata": {
    "collapsed": true
   },
   "outputs": [],
   "source": []
  }
 ],
 "metadata": {
  "kernelspec": {
   "display_name": "Python 3",
   "language": "python",
   "name": "python3"
  },
  "language_info": {
   "codemirror_mode": {
    "name": "ipython",
    "version": 3
   },
   "file_extension": ".py",
   "mimetype": "text/x-python",
   "name": "python",
   "nbconvert_exporter": "python",
   "pygments_lexer": "ipython3",
   "version": "3.6.2"
  }
 },
 "nbformat": 4,
 "nbformat_minor": 2
}
