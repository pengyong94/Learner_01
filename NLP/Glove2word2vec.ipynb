{
 "cells": [
  {
   "cell_type": "markdown",
   "metadata": {},
   "source": [
    "## 将通过Glove 训练得到的词向量（Linux下通过C编译得到），利用word2vec加载使用"
   ]
  },
  {
   "cell_type": "markdown",
   "metadata": {},
   "source": [
    "### 通过文件转化来将glove 的词向量加载到word2vec"
   ]
  },
  {
   "cell_type": "code",
   "execution_count": 1,
   "metadata": {
    "ExecuteTime": {
     "end_time": "2019-04-23T10:43:01.553277Z",
     "start_time": "2019-04-23T10:42:21.387537Z"
    }
   },
   "outputs": [
    {
     "name": "stderr",
     "output_type": "stream",
     "text": [
      "D:\\anaconda\\lib\\site-packages\\gensim\\utils.py:1197: UserWarning: detected Windows; aliasing chunkize to chunkize_serial\n",
      "  warnings.warn(\"detected Windows; aliasing chunkize to chunkize_serial\")\n"
     ]
    }
   ],
   "source": [
    "from gensim.test.utils import datapath, get_tmpfile  # 载入文件\n",
    "from gensim.models import KeyedVectors   \n",
    "from gensim.scripts.glove2word2vec import glove2word2vec  # 将glove的词向量专户为word2vec的词向量"
   ]
  },
  {
   "cell_type": "markdown",
   "metadata": {},
   "source": [
    "#### 载入文件"
   ]
  },
  {
   "cell_type": "code",
   "execution_count": 4,
   "metadata": {
    "ExecuteTime": {
     "end_time": "2019-04-23T10:48:49.860901Z",
     "start_time": "2019-04-23T10:48:49.853918Z"
    }
   },
   "outputs": [],
   "source": [
    "# 载入文件 \"vectors.txt\"即为通过glove 训练得到的词向量文件\n",
    "glove_file = datapath('vectors.txt')\n",
    "tmp_file = get_tmpfile(\"test_word2vec.txt\")   #转化为word2vec的词向量文件"
   ]
  },
  {
   "cell_type": "markdown",
   "metadata": {},
   "source": [
    "#### 加载模型"
   ]
  },
  {
   "cell_type": "code",
   "execution_count": 8,
   "metadata": {
    "ExecuteTime": {
     "end_time": "2019-04-23T10:58:33.541653Z",
     "start_time": "2019-04-23T10:58:25.025138Z"
    }
   },
   "outputs": [
    {
     "data": {
      "text/plain": [
       "(71291, 50)"
      ]
     },
     "execution_count": 8,
     "metadata": {},
     "output_type": "execute_result"
    }
   ],
   "source": [
    "a = glove2word2vec(glove_file, tmp_file)  # 返回词向量表的大小（voc_size,dimension_size）--> (71291, 50)\n",
    "model = KeyedVectors.load_word2vec_format(tmp_file)\n",
    "a                         # "
   ]
  },
  {
   "cell_type": "markdown",
   "metadata": {},
   "source": [
    "#### 测试模型"
   ]
  },
  {
   "cell_type": "code",
   "execution_count": 7,
   "metadata": {
    "ExecuteTime": {
     "end_time": "2019-04-23T10:53:00.127680Z",
     "start_time": "2019-04-23T10:52:59.889891Z"
    }
   },
   "outputs": [
    {
     "name": "stdout",
     "output_type": "stream",
     "text": [
      "one ----------\n",
      "seven 0.9769717454910278\n",
      "eight 0.9743722677230835\n",
      "six 0.9699007272720337\n",
      "nine 0.9620108008384705\n",
      "four 0.9585620164871216\n",
      "five 0.9527633190155029\n",
      "three 0.9463174343109131\n",
      "two 0.9200766086578369\n",
      "zero 0.8949599266052246\n",
      "in 0.7904540300369263\n",
      "by ----------\n",
      "been 0.8042818903923035\n",
      "being 0.7942789793014526\n",
      "as 0.7938838005065918\n",
      "both 0.7762472629547119\n",
      "which 0.775858998298645\n",
      "also 0.7736897468566895\n",
      "was 0.7729533910751343\n",
      "be 0.7716822624206543\n",
      "and 0.7663788795471191\n",
      "the 0.7608302235603333\n"
     ]
    }
   ],
   "source": [
    "word_list = [\"one\",\"by\"]\n",
    "for word in word_list:\n",
    "    print(word,\"-\"*10)\n",
    "    for i in model.most_similar(word,topn=10):\n",
    "        print(i[0],i[1])"
   ]
  },
  {
   "cell_type": "markdown",
   "metadata": {},
   "source": [
    "### 通过直接修改词向量文件加载"
   ]
  },
  {
   "attachments": {
    "glove.png": {
     "image/png": "[encoded data removed]"
    }
   },
   "cell_type": "markdown",
   "metadata": {},
   "source": [
    "![glove.png](attachment:glove.png)"
   ]
  },
  {
   "cell_type": "code",
   "execution_count": 12,
   "metadata": {
    "ExecuteTime": {
     "end_time": "2019-04-23T11:03:34.719556Z",
     "start_time": "2019-04-23T11:03:28.022998Z"
    }
   },
   "outputs": [],
   "source": [
    "import gensimim\n",
    "\n",
    "# 通过在\"vectors.txt\"的行首添加词向量的大小（voc_size,dimension_size）--> (71291, 50)得到\"vectors01.txt\"，然后直接加载\n",
    "# （voc_size,dimension_size）的值在训练中会显示出\n",
    "model = gensim.models.KeyedVectors.load_word2vec_format(\"vectors01.txt\",binary=False)\n"
   ]
  },
  {
   "cell_type": "code",
   "execution_count": 13,
   "metadata": {
    "ExecuteTime": {
     "end_time": "2019-04-23T11:03:48.163635Z",
     "start_time": "2019-04-23T11:03:48.113770Z"
    }
   },
   "outputs": [
    {
     "name": "stdout",
     "output_type": "stream",
     "text": [
      "one ----------\n",
      "seven 0.9769717454910278\n",
      "eight 0.9743722677230835\n",
      "six 0.9699007272720337\n",
      "nine 0.9620108008384705\n",
      "four 0.9585620164871216\n",
      "five 0.9527633190155029\n",
      "three 0.9463174343109131\n",
      "two 0.9200766086578369\n",
      "zero 0.8949599266052246\n",
      "in 0.7904540300369263\n",
      "by ----------\n",
      "been 0.8042818903923035\n",
      "being 0.7942789793014526\n",
      "as 0.7938838005065918\n",
      "both 0.7762472629547119\n",
      "which 0.775858998298645\n",
      "also 0.7736897468566895\n",
      "was 0.7729533910751343\n",
      "be 0.7716822624206543\n",
      "and 0.7663788795471191\n",
      "the 0.7608302235603333\n"
     ]
    }
   ],
   "source": [
    "word_list = [\"one\",\"by\"]\n",
    "for word in word_list:\n",
    "    print(word,\"-\"*10)\n",
    "    for i in model.most_similar(word,topn=10):\n",
    "        print(i[0],i[1])"
   ]
  },
  {
   "cell_type": "code",
   "execution_count": null,
   "metadata": {},
   "outputs": [],
   "source": []
  },
  {
   "cell_type": "code",
   "execution_count": null,
   "metadata": {},
   "outputs": [],
   "source": []
  }
 ],
 "metadata": {
  "hide_input": false,
  "kernelspec": {
   "display_name": "Python 3",
   "language": "python",
   "name": "python3"
  },
  "language_info": {
   "codemirror_mode": {
    "name": "ipython",
    "version": 3
   },
   "file_extension": ".py",
   "mimetype": "text/x-python",
   "name": "python",
   "nbconvert_exporter": "python",
   "pygments_lexer": "ipython3",
   "version": "3.7.1"
  },
  "toc": {
   "base_numbering": 1,
   "nav_menu": {},
   "number_sections": true,
   "sideBar": true,
   "skip_h1_title": false,
   "title_cell": "Table of Contents",
   "title_sidebar": "Contents",
   "toc_cell": false,
   "toc_position": {},
   "toc_section_display": true,
   "toc_window_display": false
  },
  "varInspector": {
   "cols": {
    "lenName": 16,
    "lenType": 16,
    "lenVar": 40
   },
   "kernels_config": {
    "python": {
     "delete_cmd_postfix": "",
     "delete_cmd_prefix": "del ",
     "library": "var_list.py",
     "varRefreshCmd": "print(var_dic_list())"
    },
    "r": {
     "delete_cmd_postfix": ") ",
     "delete_cmd_prefix": "rm(",
     "library": "var_list.r",
     "varRefreshCmd": "cat(var_dic_list()) "
    }
   },
   "types_to_exclude": [
    "module",
    "function",
    "builtin_function_or_method",
    "instance",
    "_Feature"
   ],
   "window_display": false
  }
 },
 "nbformat": 4,
 "nbformat_minor": 2
}
